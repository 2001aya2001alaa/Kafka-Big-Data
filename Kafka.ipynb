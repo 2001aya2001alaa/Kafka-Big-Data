{
 "cells": [
  {
   "cell_type": "code",
   "execution_count": 4,
   "id": "f3ce8e71",
   "metadata": {},
   "outputs": [],
   "source": [
    "from kafka import KafkaProducer\n",
    "from kafka import KafkaConsumer\n",
    "from kafka import TopicPartition\n",
    "from kafka.errors import KafkaError"
   ]
  },
  {
   "cell_type": "code",
   "execution_count": 5,
   "id": "9f5d0b53",
   "metadata": {},
   "outputs": [],
   "source": [
    "topic_name = 'topic_1'"
   ]
  },
  {
   "cell_type": "code",
   "execution_count": 8,
   "id": "f7f9456b",
   "metadata": {},
   "outputs": [],
   "source": [
    "# Create a Kafka producer object\n",
    "producer = KafkaProducer(bootstrap_servers = 'localhost:9092')"
   ]
  },
  {
   "cell_type": "code",
   "execution_count": 9,
   "id": "4c38d29d",
   "metadata": {},
   "outputs": [
    {
     "data": {
      "text/plain": [
       "<kafka.producer.future.FutureRecordMetadata at 0x2070045fa60>"
      ]
     },
     "execution_count": 9,
     "metadata": {},
     "output_type": "execute_result"
    }
   ],
   "source": [
    "# Create a new Kafka topic\n",
    "producer.send('topic_1', b'Test2')"
   ]
  },
  {
   "cell_type": "code",
   "execution_count": 10,
   "id": "5b3baf07",
   "metadata": {},
   "outputs": [],
   "source": [
    "# Create a Kafka consumer object\n",
    "consumer = KafkaConsumer(topic_name, bootstrap_servers='localhost:9092', auto_offset_reset='earliest')"
   ]
  },
  {
   "cell_type": "code",
   "execution_count": null,
   "id": "bce896e5",
   "metadata": {},
   "outputs": [
    {
     "name": "stdout",
     "output_type": "stream",
     "text": [
      "Test2\n"
     ]
    }
   ],
   "source": [
    "# Print the messages consumed from the topic\n",
    "for message in consumer:\n",
    "    print(message.value.decode('utf-8'))"
   ]
  },
  {
   "cell_type": "code",
   "execution_count": null,
   "id": "f082cbc2",
   "metadata": {},
   "outputs": [],
   "source": []
  },
  {
   "cell_type": "code",
   "execution_count": null,
   "id": "e7abbca2",
   "metadata": {},
   "outputs": [],
   "source": []
  },
  {
   "cell_type": "code",
   "execution_count": null,
   "id": "e8f4ea6e",
   "metadata": {},
   "outputs": [],
   "source": []
  }
 ],
 "metadata": {
  "kernelspec": {
   "display_name": "Python 3 (ipykernel)",
   "language": "python",
   "name": "python3"
  },
  "language_info": {
   "codemirror_mode": {
    "name": "ipython",
    "version": 3
   },
   "file_extension": ".py",
   "mimetype": "text/x-python",
   "name": "python",
   "nbconvert_exporter": "python",
   "pygments_lexer": "ipython3",
   "version": "3.8.8"
  }
 },
 "nbformat": 4,
 "nbformat_minor": 5
}
